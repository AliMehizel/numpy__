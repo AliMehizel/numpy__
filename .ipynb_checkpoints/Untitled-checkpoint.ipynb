{
 "cells": [
  {
   "cell_type": "markdown",
   "id": "76ffdc1b-e876-4dfd-b3a5-29791c4b887e",
   "metadata": {},
   "source": [
    "## Numpy library\n",
    "## 1- Tutorial"
   ]
  },
  {
   "cell_type": "markdown",
   "id": "d5313b89-9fc1-4d58-bace-3d6b203a5f07",
   "metadata": {},
   "source": [
    "#### some attributes that describe our arrays"
   ]
  },
  {
   "cell_type": "code",
   "execution_count": 16,
   "id": "3e7c69f6-fdd4-465a-be3e-4ed2beaa2c79",
   "metadata": {},
   "outputs": [
    {
     "data": {
      "text/plain": [
       "array([[ 0,  1,  2,  3,  4],\n",
       "       [ 5,  6,  7,  8,  9],\n",
       "       [10, 11, 12, 13, 14]])"
      ]
     },
     "execution_count": 16,
     "metadata": {},
     "output_type": "execute_result"
    }
   ],
   "source": [
    "import numpy as np\n",
    "\n",
    "\"\"\"\n",
    "Let's define numpy, numpy is an collection of objects (classes)\n",
    "each one them contain attributes, an behaviour (function)\n",
    "\"\"\"\n",
    "\n",
    "\"\"\"\n",
    "arrange function create a list of sequeciel element and accept params\n",
    "params : number of sequence\n",
    "reshape try to put this element in what ever shape that you want\n",
    "the array be like and it accept two params\n",
    "first param is row \n",
    "second params is column\n",
    "\"\"\"\n",
    "\n",
    "a = np.arange(15).reshape(3,5)\n",
    "a"
   ]
  },
  {
   "cell_type": "code",
   "execution_count": 7,
   "id": "c666e6c8-7ed2-4711-aa96-85d5ea0cd9b4",
   "metadata": {},
   "outputs": [
    {
     "data": {
      "text/plain": [
       "(3, 5)"
      ]
     },
     "execution_count": 7,
     "metadata": {},
     "output_type": "execute_result"
    }
   ],
   "source": [
    "#get the shape\n",
    "a.shape"
   ]
  },
  {
   "cell_type": "code",
   "execution_count": 8,
   "id": "8e626938-1463-4802-9e8c-6f6621e7155c",
   "metadata": {},
   "outputs": [
    {
     "data": {
      "text/plain": [
       "15"
      ]
     },
     "execution_count": 8,
     "metadata": {},
     "output_type": "execute_result"
    }
   ],
   "source": [
    "#get the size : how many element are they\n",
    "a.size"
   ]
  },
  {
   "cell_type": "code",
   "execution_count": 9,
   "id": "32772935-a21a-48b4-8943-f9febc2cf298",
   "metadata": {},
   "outputs": [
    {
     "data": {
      "text/plain": [
       "dtype('int32')"
      ]
     },
     "execution_count": 9,
     "metadata": {},
     "output_type": "execute_result"
    }
   ],
   "source": [
    "#which type of elemnt it contain\n",
    "a.dtype"
   ]
  },
  {
   "cell_type": "code",
   "execution_count": 15,
   "id": "ad59be95-4f5b-4c42-b0f7-19de400b6d69",
   "metadata": {},
   "outputs": [
    {
     "data": {
      "text/plain": [
       "numpy.ndarray"
      ]
     },
     "execution_count": 15,
     "metadata": {},
     "output_type": "execute_result"
    }
   ],
   "source": [
    "#type of an array\n",
    "type(a)\n",
    "\n",
    "#the result is a, object from numpy collection !!!"
   ]
  },
  {
   "cell_type": "code",
   "execution_count": 13,
   "id": "7ddfddca-56d3-4b15-a7b4-27911096146c",
   "metadata": {},
   "outputs": [
    {
     "data": {
      "text/plain": [
       "4"
      ]
     },
     "execution_count": 13,
     "metadata": {},
     "output_type": "execute_result"
    }
   ],
   "source": [
    "#get memory size of an element in the array\n",
    "a.itemsize"
   ]
  },
  {
   "cell_type": "markdown",
   "id": "08a77bbc-3255-47ef-b9f5-38073c4a1074",
   "metadata": {},
   "source": [
    "### Array creation"
   ]
  },
  {
   "cell_type": "code",
   "execution_count": 19,
   "id": "984c31dd-723e-4871-b089-e769171eacc5",
   "metadata": {},
   "outputs": [
    {
     "data": {
      "text/plain": [
       "array([[1, 5, 9],\n",
       "       [7, 5, 3],\n",
       "       [4, 6, 3]], dtype=int16)"
      ]
     },
     "execution_count": 19,
     "metadata": {},
     "output_type": "execute_result"
    }
   ],
   "source": [
    "#create multidimentional array\n",
    "#accept the data ,dtype: type of this data\n",
    "\n",
    "b = np.array([[1,5,9],[7,5,3],[4,6,3]],dtype=np.int16)\n",
    "b"
   ]
  },
  {
   "cell_type": "code",
   "execution_count": 21,
   "id": "c693f07f-2804-4bf4-a4f6-2af580adcc83",
   "metadata": {},
   "outputs": [
    {
     "data": {
      "text/plain": [
       "array([[0., 0., 0.],\n",
       "       [0., 0., 0.],\n",
       "       [0., 0., 0.]])"
      ]
     },
     "execution_count": 21,
     "metadata": {},
     "output_type": "execute_result"
    }
   ],
   "source": [
    "#array with 0 in the element you need to specify shape at minimum\n",
    "c = np.zeros((3,3))\n",
    "c"
   ]
  },
  {
   "cell_type": "code",
   "execution_count": 23,
   "id": "ea8da002-3f27-4fc2-9e80-cc483bc9b67f",
   "metadata": {},
   "outputs": [
    {
     "data": {
      "text/plain": [
       "array([[[1., 1., 1.],\n",
       "        [1., 1., 1.],\n",
       "        [1., 1., 1.]],\n",
       "\n",
       "       [[1., 1., 1.],\n",
       "        [1., 1., 1.],\n",
       "        [1., 1., 1.]],\n",
       "\n",
       "       [[1., 1., 1.],\n",
       "        [1., 1., 1.],\n",
       "        [1., 1., 1.]]])"
      ]
     },
     "execution_count": 23,
     "metadata": {},
     "output_type": "execute_result"
    }
   ],
   "source": [
    "#array with 1 in the element you need to specify shape at minimum\n",
    "#(how many axes if 3 means (x,y,z), rows, columns\n",
    "d = np.ones((3,3,3))\n",
    "d"
   ]
  },
  {
   "cell_type": "code",
   "execution_count": 33,
   "id": "f591af8b-e853-423a-bc86-6712a0fab2e7",
   "metadata": {},
   "outputs": [
    {
     "data": {
      "text/plain": [
       "array([[[6.23042070e-307, 4.67296746e-307],\n",
       "        [1.69121096e-306, 1.11261027e-306],\n",
       "        [6.23061763e-307, 8.45593934e-307]],\n",
       "\n",
       "       [[7.56593017e-307, 1.11261027e-306],\n",
       "        [1.11261502e-306, 1.42410839e-306],\n",
       "        [7.56597770e-307, 6.23059726e-307]],\n",
       "\n",
       "       [[1.42419530e-306, 1.11261027e-306],\n",
       "        [8.90094053e-307, 1.69118787e-306],\n",
       "        [8.45605478e-307, 2.22522596e-306]]])"
      ]
     },
     "execution_count": 33,
     "metadata": {},
     "output_type": "execute_result"
    }
   ],
   "source": [
    "#array with uninitialized values\n",
    "f = np.empty((3,3,2))\n",
    "f"
   ]
  },
  {
   "cell_type": "code",
   "execution_count": 35,
   "id": "f3a15d8a-c7b9-4c20-8e29-41c958c76a85",
   "metadata": {},
   "outputs": [
    {
     "data": {
      "text/plain": [
       "array([0.  , 0.25, 0.5 , 0.75, 1.  , 1.25, 1.5 , 1.75, 2.  ])"
      ]
     },
     "execution_count": 35,
     "metadata": {},
     "output_type": "execute_result"
    }
   ],
   "source": [
    "#9 numbers from 0 to 2 (start,end,how many element)\n",
    "\n",
    "e = np.linspace(0,2,9)\n",
    "e"
   ]
  },
  {
   "cell_type": "markdown",
   "id": "fafffb13-e5a7-44db-a190-a41bb04a0ab8",
   "metadata": {},
   "source": [
    "### Basic operation"
   ]
  },
  {
   "cell_type": "code",
   "execution_count": 42,
   "id": "e18033d1-3a30-433f-8e67-167265fa4d98",
   "metadata": {},
   "outputs": [
    {
     "data": {
      "text/plain": [
       "array([[[1., 2., 3., 4.]]])"
      ]
     },
     "execution_count": 42,
     "metadata": {},
     "output_type": "execute_result"
    }
   ],
   "source": [
    "#addion\n",
    "a1 = np.arange(4) # 0 1 2 3\n",
    "a2 = np.ones((1,1,4)) # 1 1 1 1\n",
    "a1 + a2"
   ]
  },
  {
   "cell_type": "code",
   "execution_count": 43,
   "id": "6691a72f-594b-4753-ab77-605061996e1f",
   "metadata": {},
   "outputs": [
    {
     "data": {
      "text/plain": [
       "array([[[-1.,  0.,  1.,  2.]]])"
      ]
     },
     "execution_count": 43,
     "metadata": {},
     "output_type": "execute_result"
    }
   ],
   "source": [
    "#substract\n",
    "a1 - a2"
   ]
  },
  {
   "cell_type": "code",
   "execution_count": 44,
   "id": "15c74ca9-e95d-4ebc-acba-e40e3fe714c1",
   "metadata": {},
   "outputs": [
    {
     "data": {
      "text/plain": [
       "array([[[0., 1., 2., 3.]]])"
      ]
     },
     "execution_count": 44,
     "metadata": {},
     "output_type": "execute_result"
    }
   ],
   "source": [
    "#multilication\n",
    "a1 * a2"
   ]
  },
  {
   "cell_type": "code",
   "execution_count": 45,
   "id": "05b81936-99b2-4220-9630-a4e355473547",
   "metadata": {},
   "outputs": [
    {
     "data": {
      "text/plain": [
       "array([[[False, False,  True,  True]]])"
      ]
     },
     "execution_count": 45,
     "metadata": {},
     "output_type": "execute_result"
    }
   ],
   "source": [
    "#comparaison\n",
    "a1 > a2"
   ]
  },
  {
   "cell_type": "code",
   "execution_count": 48,
   "id": "c4dba8eb-4ced-4e4c-ac57-58f6fc0e9d18",
   "metadata": {},
   "outputs": [
    {
     "data": {
      "text/plain": [
       "array([[[ True,  True,  True,  True]]])"
      ]
     },
     "execution_count": 48,
     "metadata": {},
     "output_type": "execute_result"
    }
   ],
   "source": [
    "#comparaison\n",
    "a1 = np.arange(4) + 1      # 1 2 3 4\n",
    "a1 >= a2"
   ]
  },
  {
   "cell_type": "code",
   "execution_count": 50,
   "id": "5d09cd0e-6123-4b43-8c35-8f343af9adbc",
   "metadata": {},
   "outputs": [
    {
     "data": {
      "text/plain": [
       "array([ 2.71828183,  7.3890561 , 20.08553692, 54.59815003])"
      ]
     },
     "execution_count": 50,
     "metadata": {},
     "output_type": "execute_result"
    }
   ],
   "source": [
    "#exponantiel it take the list and pass the expo to one by one elemnt\n",
    "np.exp(a1)"
   ]
  },
  {
   "cell_type": "code",
   "execution_count": 52,
   "id": "e65acf15-d149-4461-8801-13443f5189b6",
   "metadata": {},
   "outputs": [
    {
     "data": {
      "text/plain": [
       "array([ 0.84147098,  0.90929743,  0.14112001, -0.7568025 ])"
      ]
     },
     "execution_count": 52,
     "metadata": {},
     "output_type": "execute_result"
    }
   ],
   "source": [
    "#sinus : behavour same as exp \n",
    "np.sin(a1)"
   ]
  },
  {
   "cell_type": "code",
   "execution_count": 53,
   "id": "87c34a23-d646-4106-b4bc-a9fafe0bec45",
   "metadata": {},
   "outputs": [
    {
     "data": {
      "text/plain": [
       "array([1.        , 1.41421356, 1.73205081, 2.        ])"
      ]
     },
     "execution_count": 53,
     "metadata": {},
     "output_type": "execute_result"
    }
   ],
   "source": [
    "#sauqre root\n",
    "np.sqrt(a1)"
   ]
  },
  {
   "cell_type": "code",
   "execution_count": 55,
   "id": "eeea44c8-a61b-4e9b-a3e6-1496c7e01ce0",
   "metadata": {},
   "outputs": [
    {
     "data": {
      "text/plain": [
       "array([[[2., 3., 4., 5.]]])"
      ]
     },
     "execution_count": 55,
     "metadata": {},
     "output_type": "execute_result"
    }
   ],
   "source": [
    "#sauqre root\n",
    "np.add(a2,a1) #addition"
   ]
  },
  {
   "cell_type": "code",
   "execution_count": 59,
   "id": "d52e2bf8-608d-46b6-b703-177803d35dc7",
   "metadata": {},
   "outputs": [
    {
     "data": {
      "text/plain": [
       "array([[1, 2],\n",
       "       [3, 4],\n",
       "       [7, 8],\n",
       "       [9, 6]])"
      ]
     },
     "execution_count": 59,
     "metadata": {},
     "output_type": "execute_result"
    }
   ],
   "source": [
    "#stacking === concatination means concatinate two array\n",
    "#in vertical ways or horizontal ways\n",
    "#it work only with array\n",
    "\n",
    "#vertical stacking\n",
    "stack1 = np.array([[1,2],[3,4]])\n",
    "stack2 = np.array([[7,8],[9,6]])\n",
    "\n",
    "np.vstack((stack1,stack2))"
   ]
  },
  {
   "cell_type": "markdown",
   "id": "7bf4bb5b-87a1-41fc-a4e5-6c3e11c77dae",
   "metadata": {},
   "source": [
    "### Stacking arrays & Vector Stacking"
   ]
  },
  {
   "cell_type": "code",
   "execution_count": 60,
   "id": "612bd0c2-8689-478b-ace3-bd9863745c18",
   "metadata": {},
   "outputs": [
    {
     "data": {
      "text/plain": [
       "array([[1, 2, 7, 8],\n",
       "       [3, 4, 9, 6]])"
      ]
     },
     "execution_count": 60,
     "metadata": {},
     "output_type": "execute_result"
    }
   ],
   "source": [
    "#horizontal stacking\n",
    "np.hstack((stack1,stack2))"
   ]
  },
  {
   "cell_type": "code",
   "execution_count": 61,
   "id": "d0ca4839-9f54-4c10-b2bd-eb6850be157a",
   "metadata": {},
   "outputs": [
    {
     "data": {
      "text/plain": [
       "array([1, 2, 3, 0, 4])"
      ]
     },
     "execution_count": 61,
     "metadata": {},
     "output_type": "execute_result"
    }
   ],
   "source": [
    "#stacking more complex\n",
    "#sequence 0,1,2 + 4 byrow\n",
    "np.r_[1:4,0,4]"
   ]
  },
  {
   "cell_type": "markdown",
   "id": "fe49b0c7-9f78-4992-8baa-8f2844ea2e0e",
   "metadata": {},
   "source": [
    "### Splitting array"
   ]
  },
  {
   "cell_type": "markdown",
   "id": "270f7e4d-826f-4fac-a83b-2edf7ba44c6a",
   "metadata": {},
   "source": [
    "### Copy and views"
   ]
  },
  {
   "cell_type": "markdown",
   "id": "c6aa5808-ba26-4e90-b201-bac292928edc",
   "metadata": {},
   "source": [
    "### The ix_() function\n"
   ]
  },
  {
   "cell_type": "markdown",
   "id": "63de5506-c2a1-442d-9daf-07f4a8beb776",
   "metadata": {},
   "source": [
    "## 2- Numpy : THE ABSOLUTE BASICS FOR BEGINNERS\n"
   ]
  }
 ],
 "metadata": {
  "kernelspec": {
   "display_name": "Python 3 (ipykernel)",
   "language": "python",
   "name": "python3"
  },
  "language_info": {
   "codemirror_mode": {
    "name": "ipython",
    "version": 3
   },
   "file_extension": ".py",
   "mimetype": "text/x-python",
   "name": "python",
   "nbconvert_exporter": "python",
   "pygments_lexer": "ipython3",
   "version": "3.9.13"
  }
 },
 "nbformat": 4,
 "nbformat_minor": 5
}
